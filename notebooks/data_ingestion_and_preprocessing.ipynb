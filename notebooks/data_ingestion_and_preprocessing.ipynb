{
 "cells": [
  {
   "cell_type": "code",
   "execution_count": 1,
   "metadata": {},
   "outputs": [],
   "source": [
    "import os\n",
    "from importlib import reload"
   ]
  },
  {
   "cell_type": "code",
   "execution_count": 2,
   "metadata": {},
   "outputs": [],
   "source": [
    "os.chdir(\"../scripts\")"
   ]
  },
  {
   "cell_type": "code",
   "execution_count": 17,
   "metadata": {},
   "outputs": [],
   "source": [
    "import connect_to_telegram_channels as ctc"
   ]
  },
  {
   "cell_type": "code",
   "execution_count": 9,
   "metadata": {},
   "outputs": [
    {
     "data": {
      "text/plain": [
       "<coroutine object fetch_messages at 0x7a5eb559b450>"
      ]
     },
     "execution_count": 9,
     "metadata": {},
     "output_type": "execute_result"
    }
   ],
   "source": [
    "reload(ctc)\n",
    "ctc.fetch_messages()"
   ]
  },
  {
   "cell_type": "code",
   "execution_count": null,
   "metadata": {},
   "outputs": [
    {
     "name": "stderr",
     "output_type": "stream",
     "text": [
      "INFO:telethon.network.mtprotosender:Connecting to 149.154.167.91:443/TcpFull...\n",
      "DEBUG:telethon.network.mtprotosender:Connection attempt 1...\n",
      "DEBUG:telethon.network.mtprotosender:Connection success!\n",
      "DEBUG:telethon.network.mtprotosender:Starting send loop\n",
      "DEBUG:telethon.network.mtprotosender:Starting receive loop\n",
      "INFO:telethon.network.mtprotosender:Connection to 149.154.167.91:443/TcpFull complete!\n",
      "DEBUG:telethon.network.mtprotosender:Waiting for messages to send...\n",
      "DEBUG:telethon.extensions.messagepacker:Assigned msg_id = 7460883576323602340 to InvokeWithLayerRequest (742a757ba560)\n",
      "DEBUG:telethon.network.mtprotosender:Encrypting 1 message(s) in 80 bytes for sending\n",
      "DEBUG:telethon.network.mtprotosender:Encrypted messages put in a queue to be sent\n",
      "DEBUG:telethon.network.mtprotosender:Waiting for messages to send...\n",
      "DEBUG:telethon.network.mtprotosender:Receiving items from the network...\n",
      "DEBUG:telethon.network.mtprotosender:Handling bad salt for message 7460883576323602340\n",
      "DEBUG:telethon.network.mtprotosender:1 message(s) will be resent\n",
      "DEBUG:telethon.network.mtprotosender:Receiving items from the network...\n",
      "DEBUG:telethon.extensions.messagepacker:Assigned msg_id = 7460883577339800496 to InvokeWithLayerRequest (742a757ba560)\n",
      "DEBUG:telethon.network.mtprotosender:Encrypting 1 message(s) in 80 bytes for sending\n",
      "DEBUG:telethon.network.mtprotosender:Encrypted messages put in a queue to be sent\n",
      "DEBUG:telethon.network.mtprotosender:Waiting for messages to send...\n",
      "DEBUG:telethon.extensions.messagepacker:Assigned msg_id = 7460883577397441528 to MsgsAck (742a7c701780)\n",
      "DEBUG:telethon.network.mtprotosender:Encrypting 1 message(s) in 36 bytes for sending\n",
      "DEBUG:telethon.network.mtprotosender:Encrypted messages put in a queue to be sent\n",
      "DEBUG:telethon.network.mtprotosender:Waiting for messages to send...\n",
      "DEBUG:telethon.network.mtprotosender:Handling container\n",
      "DEBUG:telethon.network.mtprotosender:Handling new session created\n",
      "DEBUG:telethon.network.mtprotosender:Handling acknowledge for [7460883577339800496]\n",
      "DEBUG:telethon.network.mtprotosender:Receiving items from the network...\n",
      "DEBUG:telethon.network.mtprotosender:Handling RPC result for message 7460883577339800496\n",
      "DEBUG:telethon.network.mtprotosender:Receiving items from the network...\n",
      "DEBUG:telethon.extensions.messagepacker:Assigned msg_id = 7460883578503395696 to GetUsersRequest (742a757bb010)\n",
      "DEBUG:telethon.network.mtprotosender:Encrypting 1 message(s) in 32 bytes for sending\n",
      "DEBUG:telethon.network.mtprotosender:Encrypted messages put in a queue to be sent\n",
      "DEBUG:telethon.network.mtprotosender:Waiting for messages to send...\n",
      "DEBUG:telethon.extensions.messagepacker:Assigned msg_id = 7460883578550752304 to MsgsAck (742a757bacb0)\n",
      "DEBUG:telethon.network.mtprotosender:Encrypting 1 message(s) in 60 bytes for sending\n",
      "DEBUG:telethon.network.mtprotosender:Encrypted messages put in a queue to be sent\n",
      "DEBUG:telethon.network.mtprotosender:Waiting for messages to send...\n",
      "DEBUG:telethon.network.mtprotosender:Handling RPC result for message 7460883578503395696\n",
      "DEBUG:telethon.network.mtprotosender:Receiving items from the network...\n",
      "DEBUG:telethon.extensions.messagepacker:Assigned msg_id = 7460883580011492036 to MsgsAck (742a757bb130)\n",
      "DEBUG:telethon.network.mtprotosender:Encrypting 1 message(s) in 36 bytes for sending\n",
      "DEBUG:telethon.network.mtprotosender:Encrypted messages put in a queue to be sent\n",
      "DEBUG:telethon.network.mtprotosender:Waiting for messages to send...\n",
      "DEBUG:telethon.extensions.messagepacker:Assigned msg_id = 7460883580096596024 to MsgsAck (742a757ba7d0)\n",
      "DEBUG:telethon.network.mtprotosender:Encrypting 1 message(s) in 36 bytes for sending\n",
      "DEBUG:telethon.network.mtprotosender:Encrypted messages put in a queue to be sent\n",
      "DEBUG:telethon.network.mtprotosender:Waiting for messages to send...\n",
      "DEBUG:telethon.extensions.messagepacker:Assigned msg_id = 7460883580174639008 to GetUsersRequest (742a757bb400)\n",
      "DEBUG:telethon.network.mtprotosender:Encrypting 1 message(s) in 32 bytes for sending\n",
      "DEBUG:telethon.network.mtprotosender:Encrypted messages put in a queue to be sent\n",
      "DEBUG:telethon.network.mtprotosender:Waiting for messages to send...\n",
      "DEBUG:telethon.network.mtprotosender:Handling RPC result for message 7460883580174639008\n",
      "DEBUG:telethon.network.mtprotosender:Receiving items from the network...\n",
      "DEBUG:telethon.extensions.messagepacker:Assigned msg_id = 7460883581468445084 to MsgsAck (742a757bb220)\n",
      "DEBUG:telethon.network.mtprotosender:Encrypting 1 message(s) in 36 bytes for sending\n",
      "DEBUG:telethon.network.mtprotosender:Encrypted messages put in a queue to be sent\n",
      "DEBUG:telethon.network.mtprotosender:Waiting for messages to send...\n",
      "DEBUG:telethon.extensions.messagepacker:Assigned msg_id = 7460883581494218132 to MsgsAck (742a757baa10)\n",
      "DEBUG:telethon.network.mtprotosender:Encrypting 1 message(s) in 36 bytes for sending\n",
      "DEBUG:telethon.network.mtprotosender:Encrypted messages put in a queue to be sent\n",
      "DEBUG:telethon.network.mtprotosender:Waiting for messages to send...\n",
      "DEBUG:telethon.extensions.messagepacker:Assigned msg_id = 7460883581522008204 to SendCodeRequest (742a757bb370)\n",
      "DEBUG:telethon.network.mtprotosender:Encrypting 1 message(s) in 84 bytes for sending\n",
      "DEBUG:telethon.network.mtprotosender:Encrypted messages put in a queue to be sent\n",
      "DEBUG:telethon.network.mtprotosender:Waiting for messages to send...\n",
      "DEBUG:telethon.network.mtprotosender:Handling RPC result for message 7460883581522008204\n",
      "DEBUG:telethon.network.mtprotosender:Receiving items from the network...\n"
     ]
    }
   ],
   "source": [
    "import asyncio\n",
    "import logging\n",
    "from telethon import TelegramClient, errors\n",
    "\n",
    "# Enable debug logging\n",
    "logging.basicConfig(level=logging.DEBUG)\n",
    "\n",
    "api_id = '29397384'\n",
    "api_hash = 'd97e7af57fa35fd56ae7de813fcadaab'\n",
    "phone = \"+251948004309\"\n",
    "\n",
    "client = TelegramClient('EthioMartScraperSession', api_id, api_hash)\n",
    "\n",
    "async def test_client():\n",
    "    try:\n",
    "        await client.start(phone)\n",
    "        channels = ['channel1', 'channel2', 'channel3', 'channel4', 'channel5']\n",
    "        for channel in channels:\n",
    "            async for message in client.iter_messages(channel):\n",
    "                if message.text:\n",
    "                    save_text(message)\n",
    "                if message.media:\n",
    "                    save_media(message)\n",
    "\n",
    "        def save_text(message):\n",
    "            with open('messages.txt', 'a') as f:\n",
    "                f.write(f\"{message.sender_id}\\t{message.date}\\t{message.text}\\n\")\n",
    "\n",
    "        def save_media(message):\n",
    "            path = f\"media/{message.sender_id}_{message.date}\"\n",
    "            os.makedirs(path, exist_ok=True)\n",
    "            message.download_media(file=path)\n",
    "    except errors.FloodWaitError as e:\n",
    "        print(f\"Flood wait error: Retry after {e.seconds} seconds\")\n",
    "    except errors.PhoneNumberInvalidError:\n",
    "        print(\"The phone number is invalid.\")\n",
    "    except errors.PhoneCodeInvalidError:\n",
    "        print(\"The code you entered is invalid.\")\n",
    "    except errors.PhoneCodeExpiredError:\n",
    "        print(\"The code you entered has expired.\")\n",
    "    except Exception as e:\n",
    "        print(f\"An unexpected error occurred: {e}\")\n",
    "    finally:\n",
    "        await client.disconnect()\n",
    "        print(\"Client disconnected.\")\n",
    "\n",
    "# Run the test_client function\n",
    "await test_client()  # Directly await the async function here"
   ]
  },
  {
   "cell_type": "code",
   "execution_count": null,
   "metadata": {},
   "outputs": [],
   "source": [
    "import re\n",
    "\n",
    "def preprocess_text(text):\n",
    "    # Tokenization\n",
    "    tokens = text.split()\n",
    "    \n",
    "    # Normalization\n",
    "    normalized_tokens = [token.lower() for token in tokens]\n",
    "    \n",
    "    # Handle Amharic-specific features\n",
    "    amharic_tokens = [handle_amharic(token) for token in normalized_tokens]\n",
    "    \n",
    "    return amharic_tokens\n",
    "\n",
    "def handle_amharic(token):\n",
    "    # Example: Remove punctuation\n",
    "    return re.sub(r'[^\\w\\s]', '', token)\n",
    "\n",
    "with open('messages.txt', 'r') as f:\n",
    "    for line in f:\n",
    "        sender_id, date, text = line.split('\\t')\n",
    "        tokens = preprocess_text(text)\n",
    "        print(tokens)"
   ]
  },
  {
   "cell_type": "code",
   "execution_count": null,
   "metadata": {},
   "outputs": [],
   "source": [
    "import json\n",
    "\n",
    "structured_data = []\n",
    "\n",
    "with open('messages.txt', 'r') as f:\n",
    "    for line in f:\n",
    "        sender_id, date, text = line.split('\\t')\n",
    "        tokens = preprocess_text(text)\n",
    "        structured_data.append({\n",
    "            'sender_id': sender_id,\n",
    "            'date': date,\n",
    "            'tokens': tokens\n",
    "        })\n",
    "\n",
    "with open('structured_data.json', 'w') as f:\n",
    "    json.dump(structured_data, f, ensure_ascii=False, indent=4)"
   ]
  },
  {
   "cell_type": "code",
   "execution_count": null,
   "metadata": {},
   "outputs": [],
   "source": []
  }
 ],
 "metadata": {
  "kernelspec": {
   "display_name": ".venv",
   "language": "python",
   "name": "python3"
  },
  "language_info": {
   "codemirror_mode": {
    "name": "ipython",
    "version": 3
   },
   "file_extension": ".py",
   "mimetype": "text/x-python",
   "name": "python",
   "nbconvert_exporter": "python",
   "pygments_lexer": "ipython3",
   "version": "3.10.12"
  }
 },
 "nbformat": 4,
 "nbformat_minor": 2
}
