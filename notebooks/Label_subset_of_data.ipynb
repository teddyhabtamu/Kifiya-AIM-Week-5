{
 "cells": [
  {
   "cell_type": "code",
   "execution_count": null,
   "metadata": {},
   "outputs": [],
   "source": [
    "import pandas as pd\n",
    "\n",
    "# Load the dataset\n",
    "# Assuming the dataset is in a CSV file with a column named \"Message\"\n",
    "df = pd.read_csv('dataset.csv')\n",
    "\n",
    "# Define a function to label tokens\n",
    "def label_tokens(message):\n",
    "    tokens = message.split()\n",
    "    labels = []\n",
    "    for token in tokens:\n",
    "        if token.startswith(\"Product\"):  # Replace with actual product detection logic\n",
    "            labels.append(f\"{token} B-Product\")\n",
    "        elif token.startswith(\"Price\"):  # Replace with actual price detection logic\n",
    "            labels.append(f\"{token} B-PRICE\")\n",
    "        elif token.startswith(\"Location\"):  # Replace with actual location detection logic\n",
    "            labels.append(f\"{token} B-LOC\")\n",
    "        else:\n",
    "            labels.append(f\"{token} O\")\n",
    "    return labels\n",
    "\n",
    "# Label a subset of the dataset\n",
    "labeled_data = []\n",
    "for message in df['Message'][:50]:  # Label the first 50 messages\n",
    "    labeled_data.extend(label_tokens(message))\n",
    "    labeled_data.append(\"\")  # Add a blank line to separate messages\n",
    "\n",
    "# Save the labeled data in CoNLL format\n",
    "with open('labeled_data.conll', 'w', encoding='utf-8') as f:\n",
    "    for line in labeled_data:\n",
    "        f.write(line + '\\n')\n",
    "\n",
    "print(\"Labeled data saved in 'labeled_data.conll'\")"
   ]
  }
 ],
 "metadata": {
  "kernelspec": {
   "display_name": ".venv",
   "language": "python",
   "name": "python3"
  },
  "language_info": {
   "name": "python",
   "version": "3.10.12"
  }
 },
 "nbformat": 4,
 "nbformat_minor": 2
}
